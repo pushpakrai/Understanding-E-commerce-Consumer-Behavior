{
 "cells": [
  {
   "cell_type": "code",
   "execution_count": 1,
   "id": "83c5122e",
   "metadata": {
    "_cell_guid": "b1076dfc-b9ad-4769-8c92-a6c4dae69d19",
    "_uuid": "8f2839f25d086af736a60e9eeb907d3b93b6e0e5",
    "execution": {
     "iopub.execute_input": "2023-04-02T18:40:24.103080Z",
     "iopub.status.busy": "2023-04-02T18:40:24.102350Z",
     "iopub.status.idle": "2023-04-02T18:40:24.121087Z",
     "shell.execute_reply": "2023-04-02T18:40:24.119462Z"
    },
    "papermill": {
     "duration": 0.035012,
     "end_time": "2023-04-02T18:40:24.126059",
     "exception": false,
     "start_time": "2023-04-02T18:40:24.091047",
     "status": "completed"
    },
    "tags": []
   },
   "outputs": [
    {
     "name": "stdout",
     "output_type": "stream",
     "text": [
      "/kaggle/input/e-commerce-shoppers-behaviour-understanding/test_data_v2.csv\n",
      "/kaggle/input/e-commerce-shoppers-behaviour-understanding/train_data_v2.csv\n",
      "/kaggle/input/e-commerce-shoppers-behaviour-understanding/sample.csv\n"
     ]
    }
   ],
   "source": [
    "import numpy as np\n",
    "import pandas as pd\n",
    "import os\n",
    "\n",
    "for dirname, _, filenames in os.walk('/kaggle/input'):\n",
    "    for filename in filenames:\n",
    "        print(os.path.join(dirname, filename))"
   ]
  },
  {
   "cell_type": "code",
   "execution_count": 2,
   "id": "e803878b",
   "metadata": {
    "execution": {
     "iopub.execute_input": "2023-04-02T18:40:24.144523Z",
     "iopub.status.busy": "2023-04-02T18:40:24.143248Z",
     "iopub.status.idle": "2023-04-02T18:40:25.433756Z",
     "shell.execute_reply": "2023-04-02T18:40:25.432535Z"
    },
    "papermill": {
     "duration": 1.303324,
     "end_time": "2023-04-02T18:40:25.437218",
     "exception": false,
     "start_time": "2023-04-02T18:40:24.133894",
     "status": "completed"
    },
    "tags": []
   },
   "outputs": [],
   "source": [
    "import matplotlib.pyplot as plt\n",
    "import seaborn as sns"
   ]
  },
  {
   "attachments": {},
   "cell_type": "markdown",
   "id": "c5d12d7c",
   "metadata": {},
   "source": [
    "# Importing Datasets"
   ]
  },
  {
   "cell_type": "code",
   "execution_count": 3,
   "id": "a6512fea",
   "metadata": {
    "execution": {
     "iopub.execute_input": "2023-04-02T18:40:25.453490Z",
     "iopub.status.busy": "2023-04-02T18:40:25.453010Z",
     "iopub.status.idle": "2023-04-02T18:40:25.595527Z",
     "shell.execute_reply": "2023-04-02T18:40:25.594075Z"
    },
    "papermill": {
     "duration": 0.154878,
     "end_time": "2023-04-02T18:40:25.599120",
     "exception": false,
     "start_time": "2023-04-02T18:40:25.444242",
     "status": "completed"
    },
    "tags": []
   },
   "outputs": [],
   "source": [
    "train_data = pd.read_csv('/kaggle/input/e-commerce-shoppers-behaviour-understanding/train_data_v2.csv')\n",
    "test_data = pd.read_csv('/kaggle/input/e-commerce-shoppers-behaviour-understanding/test_data_v2.csv')"
   ]
  },
  {
   "cell_type": "code",
   "execution_count": 4,
   "id": "10c8d4de",
   "metadata": {
    "execution": {
     "iopub.execute_input": "2023-04-02T18:40:25.616801Z",
     "iopub.status.busy": "2023-04-02T18:40:25.616186Z",
     "iopub.status.idle": "2023-04-02T18:40:25.673436Z",
     "shell.execute_reply": "2023-04-02T18:40:25.672033Z"
    },
    "papermill": {
     "duration": 0.070359,
     "end_time": "2023-04-02T18:40:25.676791",
     "exception": false,
     "start_time": "2023-04-02T18:40:25.606432",
     "status": "completed"
    },
    "tags": []
   },
   "outputs": [
    {
     "data": {
      "text/html": [
       "<div>\n",
       "<style scoped>\n",
       "    .dataframe tbody tr th:only-of-type {\n",
       "        vertical-align: middle;\n",
       "    }\n",
       "\n",
       "    .dataframe tbody tr th {\n",
       "        vertical-align: top;\n",
       "    }\n",
       "\n",
       "    .dataframe thead th {\n",
       "        text-align: right;\n",
       "    }\n",
       "</style>\n",
       "<table border=\"1\" class=\"dataframe\">\n",
       "  <thead>\n",
       "    <tr style=\"text-align: right;\">\n",
       "      <th></th>\n",
       "      <th>HomePage</th>\n",
       "      <th>HomePage_Duration</th>\n",
       "      <th>LandingPage</th>\n",
       "      <th>LandingPage_Duration</th>\n",
       "      <th>ProductDescriptionPage</th>\n",
       "      <th>ProductDescriptionPage_Duration</th>\n",
       "      <th>GoogleMetric:Bounce Rates</th>\n",
       "      <th>GoogleMetric:Exit Rates</th>\n",
       "      <th>GoogleMetric:Page Values</th>\n",
       "      <th>SeasonalPurchase</th>\n",
       "      <th>...</th>\n",
       "      <th>SearchEngine</th>\n",
       "      <th>Zone</th>\n",
       "      <th>Type of Traffic</th>\n",
       "      <th>CustomerType</th>\n",
       "      <th>Gender</th>\n",
       "      <th>Cookies Setting</th>\n",
       "      <th>Education</th>\n",
       "      <th>Marital Status</th>\n",
       "      <th>WeekendPurchase</th>\n",
       "      <th>Made_Purchase</th>\n",
       "    </tr>\n",
       "  </thead>\n",
       "  <tbody>\n",
       "    <tr>\n",
       "      <th>0</th>\n",
       "      <td>0.0</td>\n",
       "      <td>0.0</td>\n",
       "      <td>0.0</td>\n",
       "      <td>0.0</td>\n",
       "      <td>1.0</td>\n",
       "      <td>0.000000</td>\n",
       "      <td>0.20</td>\n",
       "      <td>0.20</td>\n",
       "      <td>0.0</td>\n",
       "      <td>0.0</td>\n",
       "      <td>...</td>\n",
       "      <td>1.0</td>\n",
       "      <td>9.0</td>\n",
       "      <td>3.0</td>\n",
       "      <td>Returning_Visitor</td>\n",
       "      <td>Not Specified</td>\n",
       "      <td>Deny</td>\n",
       "      <td>Not Specified</td>\n",
       "      <td>Other</td>\n",
       "      <td>0.0</td>\n",
       "      <td>False</td>\n",
       "    </tr>\n",
       "    <tr>\n",
       "      <th>1</th>\n",
       "      <td>0.0</td>\n",
       "      <td>0.0</td>\n",
       "      <td>0.0</td>\n",
       "      <td>0.0</td>\n",
       "      <td>2.0</td>\n",
       "      <td>2.666667</td>\n",
       "      <td>0.05</td>\n",
       "      <td>0.14</td>\n",
       "      <td>0.0</td>\n",
       "      <td>0.0</td>\n",
       "      <td>...</td>\n",
       "      <td>2.0</td>\n",
       "      <td>2.0</td>\n",
       "      <td>4.0</td>\n",
       "      <td>Returning_Visitor</td>\n",
       "      <td>Female</td>\n",
       "      <td>Deny</td>\n",
       "      <td>Others</td>\n",
       "      <td>Married</td>\n",
       "      <td>0.0</td>\n",
       "      <td>False</td>\n",
       "    </tr>\n",
       "    <tr>\n",
       "      <th>2</th>\n",
       "      <td>0.0</td>\n",
       "      <td>0.0</td>\n",
       "      <td>0.0</td>\n",
       "      <td>0.0</td>\n",
       "      <td>10.0</td>\n",
       "      <td>627.500000</td>\n",
       "      <td>0.02</td>\n",
       "      <td>0.05</td>\n",
       "      <td>0.0</td>\n",
       "      <td>0.0</td>\n",
       "      <td>...</td>\n",
       "      <td>3.0</td>\n",
       "      <td>1.0</td>\n",
       "      <td>4.0</td>\n",
       "      <td>Returning_Visitor</td>\n",
       "      <td>Female</td>\n",
       "      <td>ALL</td>\n",
       "      <td>Others</td>\n",
       "      <td>Married</td>\n",
       "      <td>1.0</td>\n",
       "      <td>False</td>\n",
       "    </tr>\n",
       "    <tr>\n",
       "      <th>3</th>\n",
       "      <td>0.0</td>\n",
       "      <td>0.0</td>\n",
       "      <td>0.0</td>\n",
       "      <td>0.0</td>\n",
       "      <td>1.0</td>\n",
       "      <td>0.000000</td>\n",
       "      <td>0.20</td>\n",
       "      <td>0.20</td>\n",
       "      <td>0.0</td>\n",
       "      <td>0.4</td>\n",
       "      <td>...</td>\n",
       "      <td>4.0</td>\n",
       "      <td>3.0</td>\n",
       "      <td>3.0</td>\n",
       "      <td>Returning_Visitor</td>\n",
       "      <td>Male</td>\n",
       "      <td>ALL</td>\n",
       "      <td>Diploma</td>\n",
       "      <td>Single</td>\n",
       "      <td>0.0</td>\n",
       "      <td>False</td>\n",
       "    </tr>\n",
       "    <tr>\n",
       "      <th>4</th>\n",
       "      <td>1.0</td>\n",
       "      <td>0.0</td>\n",
       "      <td>0.0</td>\n",
       "      <td>0.0</td>\n",
       "      <td>0.0</td>\n",
       "      <td>0.000000</td>\n",
       "      <td>0.20</td>\n",
       "      <td>0.20</td>\n",
       "      <td>0.0</td>\n",
       "      <td>0.0</td>\n",
       "      <td>...</td>\n",
       "      <td>2.0</td>\n",
       "      <td>1.0</td>\n",
       "      <td>5.0</td>\n",
       "      <td>Returning_Visitor</td>\n",
       "      <td>Male</td>\n",
       "      <td>Deny</td>\n",
       "      <td>Diploma</td>\n",
       "      <td>Other</td>\n",
       "      <td>1.0</td>\n",
       "      <td>False</td>\n",
       "    </tr>\n",
       "  </tbody>\n",
       "</table>\n",
       "<p>5 rows × 22 columns</p>\n",
       "</div>"
      ],
      "text/plain": [
       "   HomePage  HomePage_Duration  LandingPage  LandingPage_Duration  \\\n",
       "0       0.0                0.0          0.0                   0.0   \n",
       "1       0.0                0.0          0.0                   0.0   \n",
       "2       0.0                0.0          0.0                   0.0   \n",
       "3       0.0                0.0          0.0                   0.0   \n",
       "4       1.0                0.0          0.0                   0.0   \n",
       "\n",
       "   ProductDescriptionPage  ProductDescriptionPage_Duration  \\\n",
       "0                     1.0                         0.000000   \n",
       "1                     2.0                         2.666667   \n",
       "2                    10.0                       627.500000   \n",
       "3                     1.0                         0.000000   \n",
       "4                     0.0                         0.000000   \n",
       "\n",
       "   GoogleMetric:Bounce Rates  GoogleMetric:Exit Rates  \\\n",
       "0                       0.20                     0.20   \n",
       "1                       0.05                     0.14   \n",
       "2                       0.02                     0.05   \n",
       "3                       0.20                     0.20   \n",
       "4                       0.20                     0.20   \n",
       "\n",
       "   GoogleMetric:Page Values  SeasonalPurchase  ... SearchEngine  Zone  \\\n",
       "0                       0.0               0.0  ...          1.0   9.0   \n",
       "1                       0.0               0.0  ...          2.0   2.0   \n",
       "2                       0.0               0.0  ...          3.0   1.0   \n",
       "3                       0.0               0.4  ...          4.0   3.0   \n",
       "4                       0.0               0.0  ...          2.0   1.0   \n",
       "\n",
       "   Type of Traffic       CustomerType         Gender Cookies Setting  \\\n",
       "0              3.0  Returning_Visitor  Not Specified            Deny   \n",
       "1              4.0  Returning_Visitor         Female            Deny   \n",
       "2              4.0  Returning_Visitor         Female             ALL   \n",
       "3              3.0  Returning_Visitor           Male             ALL   \n",
       "4              5.0  Returning_Visitor           Male            Deny   \n",
       "\n",
       "       Education Marital Status WeekendPurchase Made_Purchase  \n",
       "0  Not Specified          Other             0.0         False  \n",
       "1         Others        Married             0.0         False  \n",
       "2         Others        Married             1.0         False  \n",
       "3        Diploma         Single             0.0         False  \n",
       "4        Diploma          Other             1.0         False  \n",
       "\n",
       "[5 rows x 22 columns]"
      ]
     },
     "execution_count": 4,
     "metadata": {},
     "output_type": "execute_result"
    }
   ],
   "source": [
    "train_data.head()"
   ]
  },
  {
   "cell_type": "code",
   "execution_count": 5,
   "id": "13f27f45",
   "metadata": {
    "execution": {
     "iopub.execute_input": "2023-04-02T18:40:25.694438Z",
     "iopub.status.busy": "2023-04-02T18:40:25.693186Z",
     "iopub.status.idle": "2023-04-02T18:40:25.700807Z",
     "shell.execute_reply": "2023-04-02T18:40:25.699859Z"
    },
    "papermill": {
     "duration": 0.018814,
     "end_time": "2023-04-02T18:40:25.703120",
     "exception": false,
     "start_time": "2023-04-02T18:40:25.684306",
     "status": "completed"
    },
    "tags": []
   },
   "outputs": [
    {
     "data": {
      "text/plain": [
       "(14731, 22)"
      ]
     },
     "execution_count": 5,
     "metadata": {},
     "output_type": "execute_result"
    }
   ],
   "source": [
    "train_data.shape"
   ]
  },
  {
   "cell_type": "code",
   "execution_count": 6,
   "id": "2873c96b",
   "metadata": {
    "execution": {
     "iopub.execute_input": "2023-04-02T18:40:25.720494Z",
     "iopub.status.busy": "2023-04-02T18:40:25.719648Z",
     "iopub.status.idle": "2023-04-02T18:40:25.753428Z",
     "shell.execute_reply": "2023-04-02T18:40:25.751782Z"
    },
    "papermill": {
     "duration": 0.046524,
     "end_time": "2023-04-02T18:40:25.756862",
     "exception": false,
     "start_time": "2023-04-02T18:40:25.710338",
     "status": "completed"
    },
    "tags": []
   },
   "outputs": [
    {
     "name": "stdout",
     "output_type": "stream",
     "text": [
      "<class 'pandas.core.frame.DataFrame'>\n",
      "RangeIndex: 14731 entries, 0 to 14730\n",
      "Data columns (total 22 columns):\n",
      " #   Column                           Non-Null Count  Dtype  \n",
      "---  ------                           --------------  -----  \n",
      " 0   HomePage                         14578 non-null  float64\n",
      " 1   HomePage_Duration                14581 non-null  float64\n",
      " 2   LandingPage                      14578 non-null  float64\n",
      " 3   LandingPage_Duration             14596 non-null  float64\n",
      " 4   ProductDescriptionPage           14608 non-null  float64\n",
      " 5   ProductDescriptionPage_Duration  14564 non-null  float64\n",
      " 6   GoogleMetric:Bounce Rates        14580 non-null  float64\n",
      " 7   GoogleMetric:Exit Rates          14602 non-null  float64\n",
      " 8   GoogleMetric:Page Values         14599 non-null  float64\n",
      " 9   SeasonalPurchase                 14581 non-null  float64\n",
      " 10  Month_SeasonalPurchase           14587 non-null  object \n",
      " 11  OS                               14597 non-null  float64\n",
      " 12  SearchEngine                     14609 non-null  float64\n",
      " 13  Zone                             14614 non-null  float64\n",
      " 14  Type of Traffic                  14588 non-null  float64\n",
      " 15  CustomerType                     14587 non-null  object \n",
      " 16  Gender                           14586 non-null  object \n",
      " 17  Cookies Setting                  14587 non-null  object \n",
      " 18  Education                        14595 non-null  object \n",
      " 19  Marital Status                   14601 non-null  object \n",
      " 20  WeekendPurchase                  14610 non-null  float64\n",
      " 21  Made_Purchase                    14731 non-null  bool   \n",
      "dtypes: bool(1), float64(15), object(6)\n",
      "memory usage: 2.4+ MB\n"
     ]
    }
   ],
   "source": [
    "train_data.info()"
   ]
  },
  {
   "cell_type": "code",
   "execution_count": 7,
   "id": "fbccb506",
   "metadata": {
    "execution": {
     "iopub.execute_input": "2023-04-02T18:40:25.774776Z",
     "iopub.status.busy": "2023-04-02T18:40:25.774309Z",
     "iopub.status.idle": "2023-04-02T18:40:25.792021Z",
     "shell.execute_reply": "2023-04-02T18:40:25.790672Z"
    },
    "papermill": {
     "duration": 0.02982,
     "end_time": "2023-04-02T18:40:25.794832",
     "exception": false,
     "start_time": "2023-04-02T18:40:25.765012",
     "status": "completed"
    },
    "tags": []
   },
   "outputs": [
    {
     "data": {
      "text/plain": [
       "HomePage                           153\n",
       "HomePage_Duration                  150\n",
       "LandingPage                        153\n",
       "LandingPage_Duration               135\n",
       "ProductDescriptionPage             123\n",
       "ProductDescriptionPage_Duration    167\n",
       "GoogleMetric:Bounce Rates          151\n",
       "GoogleMetric:Exit Rates            129\n",
       "GoogleMetric:Page Values           132\n",
       "SeasonalPurchase                   150\n",
       "Month_SeasonalPurchase             144\n",
       "OS                                 134\n",
       "SearchEngine                       122\n",
       "Zone                               117\n",
       "Type of Traffic                    143\n",
       "CustomerType                       144\n",
       "Gender                             145\n",
       "Cookies Setting                    144\n",
       "Education                          136\n",
       "Marital Status                     130\n",
       "WeekendPurchase                    121\n",
       "Made_Purchase                        0\n",
       "dtype: int64"
      ]
     },
     "execution_count": 7,
     "metadata": {},
     "output_type": "execute_result"
    }
   ],
   "source": [
    "train_data.isnull().sum()"
   ]
  },
  {
   "attachments": {},
   "cell_type": "markdown",
   "id": "754f1723",
   "metadata": {},
   "source": [
    "# Data Preprocessing"
   ]
  },
  {
   "cell_type": "code",
   "execution_count": 8,
   "id": "f41ddf7b",
   "metadata": {
    "execution": {
     "iopub.execute_input": "2023-04-02T18:40:25.813595Z",
     "iopub.status.busy": "2023-04-02T18:40:25.812216Z",
     "iopub.status.idle": "2023-04-02T18:40:25.820936Z",
     "shell.execute_reply": "2023-04-02T18:40:25.818806Z"
    },
    "papermill": {
     "duration": 0.021722,
     "end_time": "2023-04-02T18:40:25.824364",
     "exception": false,
     "start_time": "2023-04-02T18:40:25.802642",
     "status": "completed"
    },
    "tags": []
   },
   "outputs": [],
   "source": [
    "train_data['Made_Purchase'] = train_data['Made_Purchase'].replace(to_replace = ['false','true'], value = [0,1])"
   ]
  },
  {
   "cell_type": "code",
   "execution_count": 9,
   "id": "169a30fa",
   "metadata": {
    "execution": {
     "iopub.execute_input": "2023-04-02T18:40:25.843429Z",
     "iopub.status.busy": "2023-04-02T18:40:25.842044Z",
     "iopub.status.idle": "2023-04-02T18:40:25.863401Z",
     "shell.execute_reply": "2023-04-02T18:40:25.861504Z"
    },
    "papermill": {
     "duration": 0.034281,
     "end_time": "2023-04-02T18:40:25.866497",
     "exception": false,
     "start_time": "2023-04-02T18:40:25.832216",
     "status": "completed"
    },
    "tags": []
   },
   "outputs": [
    {
     "name": "stdout",
     "output_type": "stream",
     "text": [
      "Month_SeasonalPurchase ['Feb' 'Mar' 'May' 'Oct' 'June' 'Jul' 'Aug' 'Nov' 'Sep' 'Dec' nan]\n",
      "\n",
      "\n",
      "CustomerType ['Returning_Visitor' 'New_Visitor' 'Other' nan]\n",
      "\n",
      "\n",
      "Gender ['Not Specified' 'Female' 'Male' nan]\n",
      "\n",
      "\n",
      "Cookies Setting ['Deny' 'ALL' 'Required' nan]\n",
      "\n",
      "\n",
      "Education ['Not Specified' 'Others' 'Diploma' 'Graduate' nan]\n",
      "\n",
      "\n",
      "Marital Status ['Other' 'Married' 'Single' nan]\n",
      "\n",
      "\n"
     ]
    }
   ],
   "source": [
    "for i in train_data.select_dtypes(include = 'object').columns:\n",
    "    print(i, pd.unique(train_data[i]))\n",
    "    print('\\n')"
   ]
  },
  {
   "cell_type": "code",
   "execution_count": 10,
   "id": "c6434695",
   "metadata": {
    "execution": {
     "iopub.execute_input": "2023-04-02T18:40:25.885428Z",
     "iopub.status.busy": "2023-04-02T18:40:25.884894Z",
     "iopub.status.idle": "2023-04-02T18:40:25.970857Z",
     "shell.execute_reply": "2023-04-02T18:40:25.969340Z"
    },
    "papermill": {
     "duration": 0.098491,
     "end_time": "2023-04-02T18:40:25.973858",
     "exception": false,
     "start_time": "2023-04-02T18:40:25.875367",
     "status": "completed"
    },
    "tags": []
   },
   "outputs": [
    {
     "data": {
      "text/html": [
       "<div>\n",
       "<style scoped>\n",
       "    .dataframe tbody tr th:only-of-type {\n",
       "        vertical-align: middle;\n",
       "    }\n",
       "\n",
       "    .dataframe tbody tr th {\n",
       "        vertical-align: top;\n",
       "    }\n",
       "\n",
       "    .dataframe thead th {\n",
       "        text-align: right;\n",
       "    }\n",
       "</style>\n",
       "<table border=\"1\" class=\"dataframe\">\n",
       "  <thead>\n",
       "    <tr style=\"text-align: right;\">\n",
       "      <th></th>\n",
       "      <th>count</th>\n",
       "      <th>mean</th>\n",
       "      <th>std</th>\n",
       "      <th>min</th>\n",
       "      <th>25%</th>\n",
       "      <th>50%</th>\n",
       "      <th>75%</th>\n",
       "      <th>max</th>\n",
       "    </tr>\n",
       "  </thead>\n",
       "  <tbody>\n",
       "    <tr>\n",
       "      <th>HomePage</th>\n",
       "      <td>14578.0</td>\n",
       "      <td>2.250240</td>\n",
       "      <td>3.288042</td>\n",
       "      <td>0.0</td>\n",
       "      <td>0.000000</td>\n",
       "      <td>1.000000</td>\n",
       "      <td>3.000000</td>\n",
       "      <td>27.000000</td>\n",
       "    </tr>\n",
       "    <tr>\n",
       "      <th>HomePage_Duration</th>\n",
       "      <td>14581.0</td>\n",
       "      <td>79.300762</td>\n",
       "      <td>179.374699</td>\n",
       "      <td>0.0</td>\n",
       "      <td>0.000000</td>\n",
       "      <td>5.000000</td>\n",
       "      <td>91.000000</td>\n",
       "      <td>3398.750000</td>\n",
       "    </tr>\n",
       "    <tr>\n",
       "      <th>LandingPage</th>\n",
       "      <td>14578.0</td>\n",
       "      <td>0.490739</td>\n",
       "      <td>1.252376</td>\n",
       "      <td>0.0</td>\n",
       "      <td>0.000000</td>\n",
       "      <td>0.000000</td>\n",
       "      <td>0.000000</td>\n",
       "      <td>24.000000</td>\n",
       "    </tr>\n",
       "    <tr>\n",
       "      <th>LandingPage_Duration</th>\n",
       "      <td>14596.0</td>\n",
       "      <td>33.455943</td>\n",
       "      <td>140.146256</td>\n",
       "      <td>0.0</td>\n",
       "      <td>0.000000</td>\n",
       "      <td>0.000000</td>\n",
       "      <td>0.000000</td>\n",
       "      <td>2549.375000</td>\n",
       "    </tr>\n",
       "    <tr>\n",
       "      <th>ProductDescriptionPage</th>\n",
       "      <td>14608.0</td>\n",
       "      <td>31.559488</td>\n",
       "      <td>44.897089</td>\n",
       "      <td>0.0</td>\n",
       "      <td>7.000000</td>\n",
       "      <td>17.500000</td>\n",
       "      <td>38.000000</td>\n",
       "      <td>705.000000</td>\n",
       "    </tr>\n",
       "    <tr>\n",
       "      <th>ProductDescriptionPage_Duration</th>\n",
       "      <td>14564.0</td>\n",
       "      <td>1184.346084</td>\n",
       "      <td>2009.496307</td>\n",
       "      <td>0.0</td>\n",
       "      <td>173.187500</td>\n",
       "      <td>584.333333</td>\n",
       "      <td>1434.255128</td>\n",
       "      <td>63973.522230</td>\n",
       "    </tr>\n",
       "    <tr>\n",
       "      <th>GoogleMetric:Bounce Rates</th>\n",
       "      <td>14580.0</td>\n",
       "      <td>0.023366</td>\n",
       "      <td>0.050011</td>\n",
       "      <td>0.0</td>\n",
       "      <td>0.000000</td>\n",
       "      <td>0.003478</td>\n",
       "      <td>0.018182</td>\n",
       "      <td>0.200000</td>\n",
       "    </tr>\n",
       "    <tr>\n",
       "      <th>GoogleMetric:Exit Rates</th>\n",
       "      <td>14602.0</td>\n",
       "      <td>0.044664</td>\n",
       "      <td>0.049912</td>\n",
       "      <td>0.0</td>\n",
       "      <td>0.014502</td>\n",
       "      <td>0.026406</td>\n",
       "      <td>0.050000</td>\n",
       "      <td>0.200000</td>\n",
       "    </tr>\n",
       "    <tr>\n",
       "      <th>GoogleMetric:Page Values</th>\n",
       "      <td>14599.0</td>\n",
       "      <td>4.812620</td>\n",
       "      <td>16.887366</td>\n",
       "      <td>0.0</td>\n",
       "      <td>0.000000</td>\n",
       "      <td>0.000000</td>\n",
       "      <td>0.000000</td>\n",
       "      <td>361.763742</td>\n",
       "    </tr>\n",
       "    <tr>\n",
       "      <th>SeasonalPurchase</th>\n",
       "      <td>14581.0</td>\n",
       "      <td>0.064083</td>\n",
       "      <td>0.202583</td>\n",
       "      <td>0.0</td>\n",
       "      <td>0.000000</td>\n",
       "      <td>0.000000</td>\n",
       "      <td>0.000000</td>\n",
       "      <td>1.000000</td>\n",
       "    </tr>\n",
       "    <tr>\n",
       "      <th>OS</th>\n",
       "      <td>14597.0</td>\n",
       "      <td>2.122422</td>\n",
       "      <td>0.914404</td>\n",
       "      <td>1.0</td>\n",
       "      <td>2.000000</td>\n",
       "      <td>2.000000</td>\n",
       "      <td>3.000000</td>\n",
       "      <td>8.000000</td>\n",
       "    </tr>\n",
       "    <tr>\n",
       "      <th>SearchEngine</th>\n",
       "      <td>14609.0</td>\n",
       "      <td>2.356629</td>\n",
       "      <td>1.721823</td>\n",
       "      <td>1.0</td>\n",
       "      <td>2.000000</td>\n",
       "      <td>2.000000</td>\n",
       "      <td>2.000000</td>\n",
       "      <td>13.000000</td>\n",
       "    </tr>\n",
       "    <tr>\n",
       "      <th>Zone</th>\n",
       "      <td>14614.0</td>\n",
       "      <td>3.155673</td>\n",
       "      <td>2.405155</td>\n",
       "      <td>1.0</td>\n",
       "      <td>1.000000</td>\n",
       "      <td>3.000000</td>\n",
       "      <td>4.000000</td>\n",
       "      <td>9.000000</td>\n",
       "    </tr>\n",
       "    <tr>\n",
       "      <th>Type of Traffic</th>\n",
       "      <td>14588.0</td>\n",
       "      <td>4.090143</td>\n",
       "      <td>4.040147</td>\n",
       "      <td>1.0</td>\n",
       "      <td>2.000000</td>\n",
       "      <td>2.000000</td>\n",
       "      <td>4.000000</td>\n",
       "      <td>20.000000</td>\n",
       "    </tr>\n",
       "    <tr>\n",
       "      <th>WeekendPurchase</th>\n",
       "      <td>14610.0</td>\n",
       "      <td>0.234155</td>\n",
       "      <td>0.423484</td>\n",
       "      <td>0.0</td>\n",
       "      <td>0.000000</td>\n",
       "      <td>0.000000</td>\n",
       "      <td>0.000000</td>\n",
       "      <td>1.000000</td>\n",
       "    </tr>\n",
       "  </tbody>\n",
       "</table>\n",
       "</div>"
      ],
      "text/plain": [
       "                                   count         mean          std  min  \\\n",
       "HomePage                         14578.0     2.250240     3.288042  0.0   \n",
       "HomePage_Duration                14581.0    79.300762   179.374699  0.0   \n",
       "LandingPage                      14578.0     0.490739     1.252376  0.0   \n",
       "LandingPage_Duration             14596.0    33.455943   140.146256  0.0   \n",
       "ProductDescriptionPage           14608.0    31.559488    44.897089  0.0   \n",
       "ProductDescriptionPage_Duration  14564.0  1184.346084  2009.496307  0.0   \n",
       "GoogleMetric:Bounce Rates        14580.0     0.023366     0.050011  0.0   \n",
       "GoogleMetric:Exit Rates          14602.0     0.044664     0.049912  0.0   \n",
       "GoogleMetric:Page Values         14599.0     4.812620    16.887366  0.0   \n",
       "SeasonalPurchase                 14581.0     0.064083     0.202583  0.0   \n",
       "OS                               14597.0     2.122422     0.914404  1.0   \n",
       "SearchEngine                     14609.0     2.356629     1.721823  1.0   \n",
       "Zone                             14614.0     3.155673     2.405155  1.0   \n",
       "Type of Traffic                  14588.0     4.090143     4.040147  1.0   \n",
       "WeekendPurchase                  14610.0     0.234155     0.423484  0.0   \n",
       "\n",
       "                                        25%         50%          75%  \\\n",
       "HomePage                           0.000000    1.000000     3.000000   \n",
       "HomePage_Duration                  0.000000    5.000000    91.000000   \n",
       "LandingPage                        0.000000    0.000000     0.000000   \n",
       "LandingPage_Duration               0.000000    0.000000     0.000000   \n",
       "ProductDescriptionPage             7.000000   17.500000    38.000000   \n",
       "ProductDescriptionPage_Duration  173.187500  584.333333  1434.255128   \n",
       "GoogleMetric:Bounce Rates          0.000000    0.003478     0.018182   \n",
       "GoogleMetric:Exit Rates            0.014502    0.026406     0.050000   \n",
       "GoogleMetric:Page Values           0.000000    0.000000     0.000000   \n",
       "SeasonalPurchase                   0.000000    0.000000     0.000000   \n",
       "OS                                 2.000000    2.000000     3.000000   \n",
       "SearchEngine                       2.000000    2.000000     2.000000   \n",
       "Zone                               1.000000    3.000000     4.000000   \n",
       "Type of Traffic                    2.000000    2.000000     4.000000   \n",
       "WeekendPurchase                    0.000000    0.000000     0.000000   \n",
       "\n",
       "                                          max  \n",
       "HomePage                            27.000000  \n",
       "HomePage_Duration                 3398.750000  \n",
       "LandingPage                         24.000000  \n",
       "LandingPage_Duration              2549.375000  \n",
       "ProductDescriptionPage             705.000000  \n",
       "ProductDescriptionPage_Duration  63973.522230  \n",
       "GoogleMetric:Bounce Rates            0.200000  \n",
       "GoogleMetric:Exit Rates              0.200000  \n",
       "GoogleMetric:Page Values           361.763742  \n",
       "SeasonalPurchase                     1.000000  \n",
       "OS                                   8.000000  \n",
       "SearchEngine                        13.000000  \n",
       "Zone                                 9.000000  \n",
       "Type of Traffic                     20.000000  \n",
       "WeekendPurchase                      1.000000  "
      ]
     },
     "execution_count": 10,
     "metadata": {},
     "output_type": "execute_result"
    }
   ],
   "source": [
    "train_data.select_dtypes(include = 'float64').describe().T"
   ]
  },
  {
   "attachments": {},
   "cell_type": "markdown",
   "id": "17de3431",
   "metadata": {},
   "source": [
    "# Data Visualization"
   ]
  },
  {
   "cell_type": "code",
   "execution_count": 11,
   "id": "6a61ef6f",
   "metadata": {
    "execution": {
     "iopub.execute_input": "2023-04-02T18:40:25.992857Z",
     "iopub.status.busy": "2023-04-02T18:40:25.991542Z",
     "iopub.status.idle": "2023-04-02T18:40:28.720914Z",
     "shell.execute_reply": "2023-04-02T18:40:28.719681Z"
    },
    "papermill": {
     "duration": 2.742846,
     "end_time": "2023-04-02T18:40:28.724735",
     "exception": false,
     "start_time": "2023-04-02T18:40:25.981889",
     "status": "completed"
    },
    "tags": []
   },
   "outputs": [
    {
     "data": {
      "image/png": "[encoded data removed]",
      "text/plain": [
       "<Figure size 1500x2000 with 15 Axes>"
      ]
     },
     "metadata": {},
     "output_type": "display_data"
    }
   ],
   "source": [
    "numeric_features = train_data.select_dtypes(include = 'float64').columns\n",
    "plt.figure(figsize = (15, 20))\n",
    "for i in range(len(numeric_features)):\n",
    "        plt.subplot(5 ,3 , i+1)\n",
    "        plt.hist(train_data[numeric_features[i]], bins = 15)\n",
    "        plt.title(numeric_features[i])\n",
    "plt.show()"
   ]
  },
  {
   "attachments": {},
   "cell_type": "markdown",
   "id": "95b0d231",
   "metadata": {},
   "source": [
    "# Data Transformation"
   ]
  },
  {
   "cell_type": "code",
   "execution_count": 12,
   "id": "4385dca0",
   "metadata": {
    "execution": {
     "iopub.execute_input": "2023-04-02T18:40:28.751255Z",
     "iopub.status.busy": "2023-04-02T18:40:28.750284Z",
     "iopub.status.idle": "2023-04-02T18:40:29.219127Z",
     "shell.execute_reply": "2023-04-02T18:40:29.217732Z"
    },
    "papermill": {
     "duration": 0.485457,
     "end_time": "2023-04-02T18:40:29.222463",
     "exception": false,
     "start_time": "2023-04-02T18:40:28.737006",
     "status": "completed"
    },
    "tags": []
   },
   "outputs": [],
   "source": [
    "from sklearn.impute import SimpleImputer, KNNImputer\n",
    "from sklearn.preprocessing import RobustScaler, StandardScaler, MinMaxScaler\n",
    "from sklearn.preprocessing import OneHotEncoder\n",
    "from sklearn.compose import ColumnTransformer\n",
    "from sklearn.pipeline import Pipeline"
   ]
  },
  {
   "cell_type": "code",
   "execution_count": 13,
   "id": "b4a18c9a",
   "metadata": {
    "execution": {
     "iopub.execute_input": "2023-04-02T18:40:29.246764Z",
     "iopub.status.busy": "2023-04-02T18:40:29.246260Z",
     "iopub.status.idle": "2023-04-02T18:40:29.252457Z",
     "shell.execute_reply": "2023-04-02T18:40:29.250960Z"
    },
    "papermill": {
     "duration": 0.021359,
     "end_time": "2023-04-02T18:40:29.254925",
     "exception": false,
     "start_time": "2023-04-02T18:40:29.233566",
     "status": "completed"
    },
    "tags": []
   },
   "outputs": [],
   "source": [
    "columns = (train_data.columns).tolist()\n",
    "columns = columns[:-1]"
   ]
  },
  {
   "cell_type": "code",
   "execution_count": 14,
   "id": "ee9ee1f3",
   "metadata": {
    "execution": {
     "iopub.execute_input": "2023-04-02T18:40:29.279486Z",
     "iopub.status.busy": "2023-04-02T18:40:29.278941Z",
     "iopub.status.idle": "2023-04-02T18:40:29.285234Z",
     "shell.execute_reply": "2023-04-02T18:40:29.283702Z"
    },
    "papermill": {
     "duration": 0.022346,
     "end_time": "2023-04-02T18:40:29.288031",
     "exception": false,
     "start_time": "2023-04-02T18:40:29.265685",
     "status": "completed"
    },
    "tags": []
   },
   "outputs": [],
   "source": [
    "one_hot_columns = ['Month_SeasonalPurchase', 'CustomerType', 'Gender', \"Cookies Setting\", 'Education', 'Marital Status']"
   ]
  },
  {
   "cell_type": "code",
   "execution_count": 15,
   "id": "7657eb1b",
   "metadata": {
    "execution": {
     "iopub.execute_input": "2023-04-02T18:40:29.313033Z",
     "iopub.status.busy": "2023-04-02T18:40:29.312502Z",
     "iopub.status.idle": "2023-04-02T18:40:29.319192Z",
     "shell.execute_reply": "2023-04-02T18:40:29.317731Z"
    },
    "papermill": {
     "duration": 0.022253,
     "end_time": "2023-04-02T18:40:29.321849",
     "exception": false,
     "start_time": "2023-04-02T18:40:29.299596",
     "status": "completed"
    },
    "tags": []
   },
   "outputs": [],
   "source": [
    "trans = ColumnTransformer([('nominal_columns', OneHotEncoder(handle_unknown = 'ignore', sparse = False), one_hot_columns)], remainder = 'passthrough')"
   ]
  },
  {
   "cell_type": "code",
   "execution_count": 16,
   "id": "d7e72c0c",
   "metadata": {
    "execution": {
     "iopub.execute_input": "2023-04-02T18:40:29.345863Z",
     "iopub.status.busy": "2023-04-02T18:40:29.345364Z",
     "iopub.status.idle": "2023-04-02T18:40:29.350768Z",
     "shell.execute_reply": "2023-04-02T18:40:29.349589Z"
    },
    "papermill": {
     "duration": 0.020406,
     "end_time": "2023-04-02T18:40:29.353326",
     "exception": false,
     "start_time": "2023-04-02T18:40:29.332920",
     "status": "completed"
    },
    "tags": []
   },
   "outputs": [],
   "source": [
    "impute = SimpleImputer(strategy = 'most_frequent')"
   ]
  },
  {
   "cell_type": "code",
   "execution_count": 17,
   "id": "677cecd6",
   "metadata": {
    "execution": {
     "iopub.execute_input": "2023-04-02T18:40:29.376995Z",
     "iopub.status.busy": "2023-04-02T18:40:29.376448Z",
     "iopub.status.idle": "2023-04-02T18:40:29.383190Z",
     "shell.execute_reply": "2023-04-02T18:40:29.381828Z"
    },
    "papermill": {
     "duration": 0.021613,
     "end_time": "2023-04-02T18:40:29.385854",
     "exception": false,
     "start_time": "2023-04-02T18:40:29.364241",
     "status": "completed"
    },
    "tags": []
   },
   "outputs": [],
   "source": [
    "data_preprocessor = Pipeline(\n",
    "    steps = [\n",
    "        ('column_transformer', trans),\n",
    "        ('r_scaler', RobustScaler()),\n",
    "        ('s_scaler', MinMaxScaler()),\n",
    "    ])"
   ]
  },
  {
   "cell_type": "code",
   "execution_count": 18,
   "id": "521647da",
   "metadata": {
    "execution": {
     "iopub.execute_input": "2023-04-02T18:40:29.411229Z",
     "iopub.status.busy": "2023-04-02T18:40:29.410676Z",
     "iopub.status.idle": "2023-04-02T18:40:29.434566Z",
     "shell.execute_reply": "2023-04-02T18:40:29.432837Z"
    },
    "papermill": {
     "duration": 0.040553,
     "end_time": "2023-04-02T18:40:29.438012",
     "exception": false,
     "start_time": "2023-04-02T18:40:29.397459",
     "status": "completed"
    },
    "tags": []
   },
   "outputs": [],
   "source": [
    "from sklearn.model_selection import train_test_split\n",
    "X_train, X_test, y_train, y_test = train_test_split(train_data.iloc[:,0:21], train_data.iloc[:,-1], test_size = 0.2, random_state = 42)"
   ]
  },
  {
   "cell_type": "code",
   "execution_count": 19,
   "id": "0315b0dc",
   "metadata": {
    "execution": {
     "iopub.execute_input": "2023-04-02T18:40:29.461767Z",
     "iopub.status.busy": "2023-04-02T18:40:29.461233Z",
     "iopub.status.idle": "2023-04-02T18:40:29.768487Z",
     "shell.execute_reply": "2023-04-02T18:40:29.767042Z"
    },
    "papermill": {
     "duration": 0.322799,
     "end_time": "2023-04-02T18:40:29.771579",
     "exception": false,
     "start_time": "2023-04-02T18:40:29.448780",
     "status": "completed"
    },
    "tags": []
   },
   "outputs": [],
   "source": [
    "X_train = impute.fit_transform(X_train)\n",
    "X_train = pd.DataFrame(X_train, columns = columns)\n",
    "\n",
    "X_test = impute.fit_transform(X_test)\n",
    "X_test = pd.DataFrame(X_test, columns = columns)\n",
    "\n",
    "X_train = data_preprocessor.fit_transform(X_train, y_train)\n",
    "X_test = data_preprocessor.transform(X_test)"
   ]
  },
  {
   "attachments": {},
   "cell_type": "markdown",
   "id": "04f53ae7",
   "metadata": {},
   "source": [
    "# Model Training"
   ]
  },
  {
   "cell_type": "code",
   "execution_count": 20,
   "id": "1ec51811",
   "metadata": {
    "execution": {
     "iopub.execute_input": "2023-04-02T18:40:29.796656Z",
     "iopub.status.busy": "2023-04-02T18:40:29.796196Z",
     "iopub.status.idle": "2023-04-02T18:40:29.802217Z",
     "shell.execute_reply": "2023-04-02T18:40:29.800690Z"
    },
    "papermill": {
     "duration": 0.021564,
     "end_time": "2023-04-02T18:40:29.805096",
     "exception": false,
     "start_time": "2023-04-02T18:40:29.783532",
     "status": "completed"
    },
    "tags": []
   },
   "outputs": [],
   "source": [
    "from sklearn.metrics import f1_score"
   ]
  },
  {
   "cell_type": "code",
   "execution_count": 21,
   "id": "1c1ddbf4",
   "metadata": {
    "execution": {
     "iopub.execute_input": "2023-04-02T18:40:29.829606Z",
     "iopub.status.busy": "2023-04-02T18:40:29.828756Z",
     "iopub.status.idle": "2023-04-02T18:40:31.069969Z",
     "shell.execute_reply": "2023-04-02T18:40:31.068091Z"
    },
    "papermill": {
     "duration": 1.25711,
     "end_time": "2023-04-02T18:40:31.073068",
     "exception": false,
     "start_time": "2023-04-02T18:40:29.815958",
     "status": "completed"
    },
    "tags": []
   },
   "outputs": [
    {
     "name": "stdout",
     "output_type": "stream",
     "text": [
      "0.6844248388191381\n"
     ]
    }
   ],
   "source": [
    "from sklearn.ensemble import AdaBoostClassifier\n",
    "model = AdaBoostClassifier()\n",
    "model.fit(X_train, y_train)\n",
    "y_pred = model.predict(X_test)\n",
    "print(f1_score(y_test, y_pred, average='micro'))"
   ]
  },
  {
   "attachments": {},
   "cell_type": "markdown",
   "id": "80c5f18a",
   "metadata": {},
   "source": [
    "# Hyper-parameter Tuning\n"
   ]
  },
  {
   "cell_type": "code",
   "execution_count": 22,
   "id": "14040c6c",
   "metadata": {
    "execution": {
     "iopub.execute_input": "2023-04-02T18:40:31.098024Z",
     "iopub.status.busy": "2023-04-02T18:40:31.097509Z",
     "iopub.status.idle": "2023-04-02T18:42:22.866461Z",
     "shell.execute_reply": "2023-04-02T18:42:22.864769Z"
    },
    "papermill": {
     "duration": 111.794271,
     "end_time": "2023-04-02T18:42:22.879043",
     "exception": false,
     "start_time": "2023-04-02T18:40:31.084772",
     "status": "completed"
    },
    "tags": []
   },
   "outputs": [
    {
     "data": {
      "text/plain": [
       "AdaBoostClassifier(learning_rate=0.1, n_estimators=100)"
      ]
     },
     "execution_count": 22,
     "metadata": {},
     "output_type": "execute_result"
    }
   ],
   "source": [
    "from sklearn.model_selection import GridSearchCV, RandomizedSearchCV, StratifiedShuffleSplit\n",
    "\n",
    "cv = StratifiedShuffleSplit(n_splits = 6, test_size = 0.3, random_state = 42)\n",
    "\n",
    "grid_params = {'n_estimators': [100, 200, 300, 400, 500, 600],\n",
    "              'learning_rate': [0.0001, 0.001, 0.01, 0.1, 1.0]}\n",
    "\n",
    "tune = RandomizedSearchCV(estimator = model, param_distributions = grid_params, scoring = 'f1_micro', cv = cv, n_jobs = -1)\n",
    "tune.fit(X_train, y_train)\n",
    "tune.best_estimator_"
   ]
  },
  {
   "cell_type": "code",
   "execution_count": 23,
   "id": "bd4f6769",
   "metadata": {
    "execution": {
     "iopub.execute_input": "2023-04-02T18:42:22.903153Z",
     "iopub.status.busy": "2023-04-02T18:42:22.902588Z",
     "iopub.status.idle": "2023-04-02T18:42:22.988050Z",
     "shell.execute_reply": "2023-04-02T18:42:22.986359Z"
    },
    "papermill": {
     "duration": 0.101086,
     "end_time": "2023-04-02T18:42:22.990970",
     "exception": false,
     "start_time": "2023-04-02T18:42:22.889884",
     "status": "completed"
    },
    "tags": []
   },
   "outputs": [
    {
     "name": "stdout",
     "output_type": "stream",
     "text": [
      "0.6857821513403461\n"
     ]
    }
   ],
   "source": [
    "model = tune.best_estimator_\n",
    "y_pred = model.predict(X_test)\n",
    "print(f1_score(y_test, y_pred, average = 'micro'))"
   ]
  },
  {
   "cell_type": "code",
   "execution_count": 24,
   "id": "3490ebf4",
   "metadata": {
    "execution": {
     "iopub.execute_input": "2023-04-02T18:42:23.015290Z",
     "iopub.status.busy": "2023-04-02T18:42:23.014416Z",
     "iopub.status.idle": "2023-04-02T18:42:23.273598Z",
     "shell.execute_reply": "2023-04-02T18:42:23.272051Z"
    },
    "papermill": {
     "duration": 0.274931,
     "end_time": "2023-04-02T18:42:23.276799",
     "exception": false,
     "start_time": "2023-04-02T18:42:23.001868",
     "status": "completed"
    },
    "tags": []
   },
   "outputs": [],
   "source": [
    "test_data = impute.fit_transform(test_data)\n",
    "test_data = pd.DataFrame(test_data, columns = columns)\n",
    "X_test = data_preprocessor.transform(test_data)\n",
    "Prediction = model.predict(X_test)"
   ]
  },
  {
   "attachments": {},
   "cell_type": "markdown",
   "id": "ad984bb8",
   "metadata": {},
   "source": [
    "# Exporting CSV"
   ]
  },
  {
   "cell_type": "code",
   "execution_count": 25,
   "id": "237bf9a2",
   "metadata": {
    "execution": {
     "iopub.execute_input": "2023-04-02T18:42:23.301653Z",
     "iopub.status.busy": "2023-04-02T18:42:23.301173Z",
     "iopub.status.idle": "2023-04-02T18:42:23.324833Z",
     "shell.execute_reply": "2023-04-02T18:42:23.323655Z"
    },
    "papermill": {
     "duration": 0.040151,
     "end_time": "2023-04-02T18:42:23.327946",
     "exception": false,
     "start_time": "2023-04-02T18:42:23.287795",
     "status": "completed"
    },
    "tags": []
   },
   "outputs": [],
   "source": [
    "id = np.arange(0,6599,1)\n",
    "final_prediction = pd.DataFrame({'id': id, 'Made_Purchase': Prediction})\n",
    "final_prediction['Made_Purchase'] = final_prediction['Made_Purchase'].replace(to_replace = [0,1], value = ['false','true'])\n",
    "final_prediction.to_csv('MLP Project 21f2000448.csv', index = False)"
   ]
  }
 ],
 "metadata": {
  "kernelspec": {
   "display_name": "Python 3",
   "language": "python",
   "name": "python3"
  },
  "language_info": {
   "codemirror_mode": {
    "name": "ipython",
    "version": 3
   },
   "file_extension": ".py",
   "mimetype": "text/x-python",
   "name": "python",
   "nbconvert_exporter": "python",
   "pygments_lexer": "ipython3",
   "version": "3.7.12"
  },
  "papermill": {
   "default_parameters": {},
   "duration": 134.320284,
   "end_time": "2023-04-02T18:42:25.963005",
   "environment_variables": {},
   "exception": null,
   "input_path": "__notebook__.ipynb",
   "output_path": "__notebook__.ipynb",
   "parameters": {},
   "start_time": "2023-04-02T18:40:11.642721",
   "version": "2.4.0"
  }
 },
 "nbformat": 4,
 "nbformat_minor": 5
}
